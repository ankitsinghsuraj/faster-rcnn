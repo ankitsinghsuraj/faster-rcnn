{
 "cells": [
  {
   "cell_type": "code",
   "execution_count": 1,
   "metadata": {},
   "outputs": [],
   "source": [
    "import os\n",
    "import pandas as pd"
   ]
  },
  {
   "cell_type": "code",
   "execution_count": 9,
   "metadata": {},
   "outputs": [
    {
     "name": "stdout",
     "output_type": "stream",
     "text": [
      "   Frame Number  ID  bb_left  bb_top  width  height     conf\n",
      "0             1   1      260     450    102     262  1.00000\n",
      "1             1  19     1686     387    171     345  1.00000\n",
      "2             1  20     1886     327    156     404  0.22293\n",
      "3             1  21     1253     533     63     129  1.00000\n",
      "4             1  22     1292     459     70     202  0.77624\n"
     ]
    }
   ],
   "source": [
    "dataset = pd.read_csv(r'C:\\Users\\Ab215tx\\Desktop\\keras_frcnn_new\\mot17_09.csv')\n",
    "print(dataset.head())"
   ]
  },
  {
   "cell_type": "code",
   "execution_count": 10,
   "metadata": {},
   "outputs": [],
   "source": [
    "xmin = dataset['bb_left']\n",
    "ymax = dataset['bb_top']\n",
    "ymin = dataset['bb_top'] + dataset['height']\n",
    "xmax = dataset['bb_left'] + dataset['width']"
   ]
  },
  {
   "cell_type": "code",
   "execution_count": 77,
   "metadata": {},
   "outputs": [
    {
     "name": "stdout",
     "output_type": "stream",
     "text": [
      "   Frame  ID  xmax  xmin  ymax  ymin  Classs\n",
      "0    262   1   362   260   450   712       1\n",
      "1    345  19  1857  1686   387   732       1\n",
      "2    404  20  2042  1886   327   731       1\n",
      "3    129  21  1316  1253   533   662       1\n",
      "4    202  22  1362  1292   459   661       1\n",
      "10412\n"
     ]
    }
   ],
   "source": [
    "output = {'xmin' : xmin, 'xmax' : xmax, 'ymin' : ymin, 'ymax' : ymax, 'ID':id }\n",
    "output['Frame'] = dataset.iloc[:,0]\n",
    "train= pd.DataFrame(output)\n",
    "train.insert(6, 'Classs',1)\n",
    "print(train.head())\n",
    "print(len(train))"
   ]
  },
  {
   "cell_type": "code",
   "execution_count": 78,
   "metadata": {},
   "outputs": [
    {
     "name": "stdout",
     "output_type": "stream",
     "text": [
      "                Frame  ID  xmax  xmin  ymax  ymin  Classs\n",
      "0   data/frame262.jpg   1   362   260   450   712       1\n",
      "1   data/frame345.jpg  19  1857  1686   387   732       1\n",
      "2   data/frame404.jpg  20  2042  1886   327   731       1\n",
      "3   data/frame129.jpg  21  1316  1253   533   662       1\n",
      "4   data/frame202.jpg  22  1362  1292   459   661       1\n",
      "5   data/frame695.jpg  23   129  -348   235   930       1\n",
      "6   data/frame532.jpg  25  1171  1035   174   706       1\n",
      "7   data/frame230.jpg  26   200   116   522   752       1\n",
      "8   data/frame440.jpg  27   255   234   395   835       1\n",
      "9   data/frame122.jpg  28  1747  1682   470   592       1\n",
      "10  data/frame254.jpg  30   127    42   502   756       1\n",
      "11  data/frame108.jpg  31   909   863   522   630       1\n",
      "12  data/frame182.jpg  44   846   751   506   688       1\n",
      "13  data/frame263.jpg   1   364   262   449   712       1\n",
      "14  data/frame347.jpg  19  1855  1685   386   733       1\n",
      "15  data/frame406.jpg  20  2040  1883   326   732       1\n",
      "16  data/frame127.jpg  21  1318  1256   534   661       1\n",
      "17  data/frame203.jpg  22  1364  1293   458   661       1\n",
      "18  data/frame695.jpg  23   133  -340   234   929       1\n",
      "19  data/frame532.jpg  25  1171  1035   174   706       1\n"
     ]
    }
   ],
   "source": [
    "for i in range(len(train)):\n",
    "    train.iloc[i,0] = \"data/frame\"+str(train.iloc[i,0])+\".jpg\"  \n",
    "print(train.head(20))"
   ]
  },
  {
   "cell_type": "code",
   "execution_count": 79,
   "metadata": {
    "collapsed": true
   },
   "outputs": [],
   "source": [
    "# fig = plt.figure()\n",
    "\n",
    "# #add axes to the image\n",
    "# ax = fig.add_axes([0,0,1,1])\n",
    "\n",
    "# # read and plot the image\n",
    "# image = plt.imread('images/1.jpg')\n",
    "# plt.imshow(image)\n",
    "\n",
    "# # iterating over the image for different objects\n",
    "# for _,row in train[train.image_names == \"1.jpg\"].iterrows():\n",
    "#     xmin = row.xmin\n",
    "#     xmax = row.xmax\n",
    "#     ymin = row.ymin\n",
    "#     ymax = row.ymax\n",
    "    \n",
    "#     width = xmax - xmin\n",
    "#     height = ymax - ymin\n",
    "    \n",
    "#     # assign different color to different classes of objects\n",
    "#     if row.cell_type == 'RBC':\n",
    "#         edgecolor = 'r'\n",
    "#         ax.annotate('RBC', xy=(xmax-40,ymin+20))\n",
    "#     elif row.cell_type == 'WBC':\n",
    "#         edgecolor = 'b'\n",
    "#         ax.annotate('WBC', xy=(xmax-40,ymin+20))\n",
    "#     elif row.cell_type == 'Platelets':\n",
    "#         edgecolor = 'g'\n",
    "#         ax.annotate('Platelets', xy=(xmax-40,ymin+20))\n",
    "        \n",
    "#     # add bounding boxes to the image\n",
    "#     rect = patches.Rectangle((xmin,ymin), width, height, edgecolor = edgecolor, facecolor = 'none')\n",
    "    \n",
    "#     ax.add_patch(rect)\n"
   ]
  },
  {
   "cell_type": "code",
   "execution_count": 80,
   "metadata": {
    "collapsed": true
   },
   "outputs": [],
   "source": [
    "train.to_csv(r'C:\\Users\\student\\Desktop\\data\\panda_mod.txt', header=None, index=None, sep=',', mode='a')"
   ]
  },
  {
   "cell_type": "code",
   "execution_count": 1,
   "metadata": {},
   "outputs": [
    {
     "ename": "SyntaxError",
     "evalue": "invalid syntax (<ipython-input-1-b44e1e1d4d84>, line 1)",
     "output_type": "error",
     "traceback": [
      "\u001b[1;36m  File \u001b[1;32m\"<ipython-input-1-b44e1e1d4d84>\"\u001b[1;36m, line \u001b[1;32m1\u001b[0m\n\u001b[1;33m    python train_frcnn.py -o simple -p pandas3.txt\u001b[0m\n\u001b[1;37m                     ^\u001b[0m\n\u001b[1;31mSyntaxError\u001b[0m\u001b[1;31m:\u001b[0m invalid syntax\n"
     ]
    }
   ],
   "source": [
    "python train_frcnn.py -o simple -p pandas3.txt"
   ]
  },
  {
   "cell_type": "code",
   "execution_count": null,
   "metadata": {
    "collapsed": true
   },
   "outputs": [],
   "source": []
  }
 ],
 "metadata": {
  "kernelspec": {
   "display_name": "Python 3",
   "language": "python",
   "name": "python3"
  },
  "language_info": {
   "codemirror_mode": {
    "name": "ipython",
    "version": 3
   },
   "file_extension": ".py",
   "mimetype": "text/x-python",
   "name": "python",
   "nbconvert_exporter": "python",
   "pygments_lexer": "ipython3",
   "version": "3.6.4"
  }
 },
 "nbformat": 4,
 "nbformat_minor": 2
}
